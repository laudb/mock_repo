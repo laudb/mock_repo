{
  "nbformat": 4,
  "nbformat_minor": 0,
  "metadata": {
    "colab": {
      "name": "NewPython3Notebook.ipynb",
      "provenance": [],
      "authorship_tag": "ABX9TyNeKSuWMilJcQmvf97mbNBS",
      "include_colab_link": true
    },
    "kernelspec": {
      "name": "python3",
      "display_name": "Python 3"
    }
  },
  "cells": [
    {
      "cell_type": "markdown",
      "metadata": {
        "id": "view-in-github",
        "colab_type": "text"
      },
      "source": [
        "<a href=\"https://colab.research.google.com/github/laudb/mock_repo/blob/master/NewPython3Notebook.ipynb\" target=\"_parent\"><img src=\"https://colab.research.google.com/assets/colab-badge.svg\" alt=\"Open In Colab\"/></a>"
      ]
    },
    {
      "cell_type": "code",
      "metadata": {
        "id": "gtg9hgtfMPMb",
        "colab_type": "code",
        "colab": {
          "base_uri": "https://localhost:8080/",
          "height": 33
        },
        "outputId": "5b7f4e92-2049-4d37-f0e7-8386ef7c1027"
      },
      "source": [
        "import time\n",
        "print(time.ctime())"
      ],
      "execution_count": 1,
      "outputs": [
        {
          "output_type": "stream",
          "text": [
            "Fri Feb 14 05:37:25 2020\n"
          ],
          "name": "stdout"
        }
      ]
    },
    {
      "cell_type": "code",
      "metadata": {
        "id": "Mit4dxLqMmtY",
        "colab_type": "code",
        "colab": {
          "base_uri": "https://localhost:8080/",
          "height": 33
        },
        "outputId": "e2bc8542-55f3-488b-aa21-85ac4707dbc6"
      },
      "source": [
        "time.sleep(5)\n",
        "print(time.ctime())"
      ],
      "execution_count": 2,
      "outputs": [
        {
          "output_type": "stream",
          "text": [
            "Fri Feb 14 05:37:30 2020\n"
          ],
          "name": "stdout"
        }
      ]
    },
    {
      "cell_type": "markdown",
      "metadata": {
        "id": "1V4KZufMNYWK",
        "colab_type": "text"
      },
      "source": [
        "This is **bold** \n",
        "\n",
        "This is _italic_\n",
        "\n",
        "This is *strikethrough*"
      ]
    },
    {
      "cell_type": "markdown",
      "metadata": {
        "id": "BAoozr4ENs5C",
        "colab_type": "text"
      },
      "source": [
        "$\\sqrt{3x+1}+(1+x)^2$\n",
        "\n",
        "$e^x =\\sum_{i = 0}^\\infty \\frac{1}{i!}x^1$ "
      ]
    },
    {
      "cell_type": "markdown",
      "metadata": {
        "id": "VeRgHzyCPKnQ",
        "colab_type": "text"
      },
      "source": [
        ""
      ]
    }
  ]
}